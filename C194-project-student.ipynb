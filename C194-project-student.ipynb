{
 "cells": [
  {
   "cell_type": "code",
   "execution_count": 1,
   "metadata": {},
   "outputs": [
    {
     "name": "stdout",
     "output_type": "stream",
     "text": [
      "Name : Emilia \n",
      "We will be cleaning the big data and make a comparison to show who has a healthier heart smokers OR non smokers, uisng a line graph\n",
      "Also we will be deriviring which age group has the high chances of coronary heart disease in 10 years\n"
     ]
    }
   ],
   "source": [
    "print(\"Name : Emilia \")\n",
    "print(\"We will be cleaning the big data and make a comparison to show who has a healthier heart smokers OR non smokers, uisng a line graph\")\n",
    "print(\"Also we will be deriviring which age group has the high chances of coronary heart disease in 10 years\")\n"
   ]
  },
  {
   "cell_type": "markdown",
   "metadata": {},
   "source": [
    "# Task 1 - Plot a line graph to show the difference between heart rate of smokers and non smokers"
   ]
  },
  {
   "cell_type": "code",
   "execution_count": 1,
   "metadata": {},
   "outputs": [],
   "source": [
    "#Import libraries\n",
    "import pandas as pd\n",
    "import matplotlib.pyplot as plt\n",
    "import numpy as np\n",
    "\n",
    "\n",
    "#read the csv\n",
    "framingham = pd.read_csv('framingham.csv')\n",
    "framingham"
   ]
  },
  {
   "cell_type": "code",
   "execution_count": 2,
   "metadata": {},
   "outputs": [],
   "source": [
    "#Filter and make a new dataframe for non smokers\n",
    "non_smokers = df.loc[df['non_smokers']]\n",
    "non_smokers"
   ]
  },
  {
   "cell_type": "code",
   "execution_count": 3,
   "metadata": {},
   "outputs": [],
   "source": [
    "#Group by age column and find average heart rate at different age\n",
    "group_by_age = non_smokers.groupby('age')['total_gross'].sum().reset_index()\n",
    "group_by_age\n"
   ]
  },
  {
   "cell_type": "code",
   "execution_count": 4,
   "metadata": {},
   "outputs": [],
   "source": [
    "#Filter and make a new dataframe for smokers\n",
    "smokers = df.loc[df['smokers']]\n",
    "smokers"
   ]
  },
  {
   "cell_type": "code",
   "execution_count": 5,
   "metadata": {},
   "outputs": [],
   "source": [
    "#Group by age column and find average heart rate at different age\n",
    "smokers = df.loc[df['smokers']]\n",
    "smokers"
   ]
  },
  {
   "cell_type": "code",
   "execution_count": 6,
   "metadata": {},
   "outputs": [],
   "source": [
    "#Plot a line graph to show the heart rate of smokers vs non smokers\n",
    "heavy_satellite_5 = sorted_df.head(5)\n",
    "print(heavy_satellite_5)\n",
    "\n",
    "name = heavy_satellite_5['Official Name of Satellite']\n",
    "weight = heavy_satellite_5['Dry Mass (Kilograms)']\n",
    "\n",
    "plt.xlabel(\"Official Name of Satellite\")\n",
    "plt.xticks(rotation='vertical')\n",
    "plt.ylabel(\"Mass (Kilograms)\")\n",
    "\n",
    "\n",
    "label = name\n",
    "value = weight \n",
    "plt.bar(label, value,width=0.4, color=('red','yellow','green','pink','blue')) #bar-grap\n"
   ]
  },
  {
   "cell_type": "markdown",
   "metadata": {},
   "source": [
    "Conslusion - "
   ]
  },
  {
   "cell_type": "markdown",
   "metadata": {},
   "source": [
    "# Task 2 - Which age group have high chances of having coronary heart disease in 10 years"
   ]
  },
  {
   "cell_type": "code",
   "execution_count": 7,
   "metadata": {},
   "outputs": [],
   "source": [
    "#Read the csv\n",
    "\n",
    "#Filter and make a new dataframe for those who has chances of having coronary heart disease in 10 years\n"
   ]
  },
  {
   "cell_type": "code",
   "execution_count": 8,
   "metadata": {},
   "outputs": [],
   "source": [
    "#Group by age column and count the rows of TenYearCHD column\n"
   ]
  },
  {
   "cell_type": "code",
   "execution_count": 9,
   "metadata": {},
   "outputs": [],
   "source": [
    "#Plot a line graph to show total number of people having a chance of coronary heart disease in 10 years\n"
   ]
  },
  {
   "cell_type": "markdown",
   "metadata": {},
   "source": [
    "Conslusion - "
   ]
  },
  {
   "cell_type": "code",
   "execution_count": null,
   "metadata": {},
   "outputs": [],
   "source": []
  }
 ],
 "metadata": {
  "kernelspec": {
   "display_name": "Python 3 (ipykernel)",
   "language": "python",
   "name": "python3"
  },
  "language_info": {
   "codemirror_mode": {
    "name": "ipython",
    "version": 3
   },
   "file_extension": ".py",
   "mimetype": "text/x-python",
   "name": "python",
   "nbconvert_exporter": "python",
   "pygments_lexer": "ipython3",
   "version": "3.11.5"
  }
 },
 "nbformat": 4,
 "nbformat_minor": 4
}
